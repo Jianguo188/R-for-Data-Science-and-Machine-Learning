{
 "cells": [
  {
   "cell_type": "markdown",
   "id": "ae411e13",
   "metadata": {},
   "source": [
    "## R Data Types"
   ]
  },
  {
   "cell_type": "markdown",
   "id": "3ed32cf4",
   "metadata": {},
   "source": [
    "#### Numberics\n",
    "Decimal (floating point values) are part of the numeric class in R"
   ]
  },
  {
   "cell_type": "code",
   "execution_count": 1,
   "id": "ca80fab1",
   "metadata": {},
   "outputs": [],
   "source": [
    "n <- 2.2"
   ]
  },
  {
   "cell_type": "code",
   "execution_count": 2,
   "id": "7fae2dc9",
   "metadata": {},
   "outputs": [
    {
     "data": {
      "text/html": [
       "2.2"
      ],
      "text/latex": [
       "2.2"
      ],
      "text/markdown": [
       "2.2"
      ],
      "text/plain": [
       "[1] 2.2"
      ]
     },
     "metadata": {},
     "output_type": "display_data"
    }
   ],
   "source": [
    "n"
   ]
  },
  {
   "cell_type": "markdown",
   "id": "5f58ddc9",
   "metadata": {},
   "source": [
    "#### Integers\n",
    "Natural (whole) numbers are known as integers and are also part of the numeric class"
   ]
  },
  {
   "cell_type": "code",
   "execution_count": 3,
   "id": "bc2cb24c",
   "metadata": {},
   "outputs": [],
   "source": [
    "i <- 5"
   ]
  },
  {
   "cell_type": "code",
   "execution_count": 4,
   "id": "c0cbd212",
   "metadata": {},
   "outputs": [
    {
     "data": {
      "text/html": [
       "5"
      ],
      "text/latex": [
       "5"
      ],
      "text/markdown": [
       "5"
      ],
      "text/plain": [
       "[1] 5"
      ]
     },
     "metadata": {},
     "output_type": "display_data"
    }
   ],
   "source": [
    "i"
   ]
  },
  {
   "cell_type": "markdown",
   "id": "72a4c3fd",
   "metadata": {},
   "source": [
    "#### Logical\n",
    "Boolean values (True and False) are part of the logical class. In R these are written in All Caps."
   ]
  },
  {
   "cell_type": "code",
   "execution_count": 5,
   "id": "b2e395ea",
   "metadata": {},
   "outputs": [],
   "source": [
    "t <- TRUE\n",
    "f <- FALSE"
   ]
  },
  {
   "cell_type": "code",
   "execution_count": 6,
   "id": "de14639a",
   "metadata": {},
   "outputs": [
    {
     "data": {
      "text/html": [
       "TRUE"
      ],
      "text/latex": [
       "TRUE"
      ],
      "text/markdown": [
       "TRUE"
      ],
      "text/plain": [
       "[1] TRUE"
      ]
     },
     "metadata": {},
     "output_type": "display_data"
    }
   ],
   "source": [
    "t"
   ]
  },
  {
   "cell_type": "code",
   "execution_count": 7,
   "id": "e2991243",
   "metadata": {},
   "outputs": [
    {
     "data": {
      "text/html": [
       "FALSE"
      ],
      "text/latex": [
       "FALSE"
      ],
      "text/markdown": [
       "FALSE"
      ],
      "text/plain": [
       "[1] FALSE"
      ]
     },
     "metadata": {},
     "output_type": "display_data"
    }
   ],
   "source": [
    "f"
   ]
  },
  {
   "cell_type": "markdown",
   "id": "ffac4a6d",
   "metadata": {},
   "source": [
    "#### Characters\n",
    "Text/string values are known as characters in R. You use quotation marks to create a text character string:"
   ]
  },
  {
   "cell_type": "code",
   "execution_count": 8,
   "id": "8c2e9ba8",
   "metadata": {},
   "outputs": [],
   "source": [
    "char <- \"Hello World!\""
   ]
  },
  {
   "cell_type": "code",
   "execution_count": 9,
   "id": "b5482688",
   "metadata": {},
   "outputs": [
    {
     "data": {
      "text/html": [
       "'Hello World!'"
      ],
      "text/latex": [
       "'Hello World!'"
      ],
      "text/markdown": [
       "'Hello World!'"
      ],
      "text/plain": [
       "[1] \"Hello World!\""
      ]
     },
     "metadata": {},
     "output_type": "display_data"
    }
   ],
   "source": [
    "char"
   ]
  },
  {
   "cell_type": "code",
   "execution_count": 10,
   "id": "3434b7fe",
   "metadata": {},
   "outputs": [],
   "source": [
    "# Also single quotes\n",
    "c <- 'Single Quote Char'"
   ]
  },
  {
   "cell_type": "code",
   "execution_count": 11,
   "id": "9af535c3",
   "metadata": {},
   "outputs": [
    {
     "data": {
      "text/html": [
       "'Single Quote Char'"
      ],
      "text/latex": [
       "'Single Quote Char'"
      ],
      "text/markdown": [
       "'Single Quote Char'"
      ],
      "text/plain": [
       "[1] \"Single Quote Char\""
      ]
     },
     "metadata": {},
     "output_type": "display_data"
    }
   ],
   "source": [
    "c"
   ]
  },
  {
   "cell_type": "markdown",
   "id": "568a8d09",
   "metadata": {},
   "source": [
    "#### Checking Data Type Classes\n",
    "You can use the class() function to check the data type of a variable:"
   ]
  },
  {
   "cell_type": "code",
   "execution_count": 12,
   "id": "ac6f7333",
   "metadata": {},
   "outputs": [
    {
     "data": {
      "text/html": [
       "'logical'"
      ],
      "text/latex": [
       "'logical'"
      ],
      "text/markdown": [
       "'logical'"
      ],
      "text/plain": [
       "[1] \"logical\""
      ]
     },
     "metadata": {},
     "output_type": "display_data"
    }
   ],
   "source": [
    "class(t)"
   ]
  },
  {
   "cell_type": "code",
   "execution_count": 13,
   "id": "c45efeb8",
   "metadata": {},
   "outputs": [
    {
     "data": {
      "text/html": [
       "'logical'"
      ],
      "text/latex": [
       "'logical'"
      ],
      "text/markdown": [
       "'logical'"
      ],
      "text/plain": [
       "[1] \"logical\""
      ]
     },
     "metadata": {},
     "output_type": "display_data"
    }
   ],
   "source": [
    "class(f)"
   ]
  },
  {
   "cell_type": "code",
   "execution_count": 14,
   "id": "907077af",
   "metadata": {},
   "outputs": [
    {
     "data": {
      "text/html": [
       "'character'"
      ],
      "text/latex": [
       "'character'"
      ],
      "text/markdown": [
       "'character'"
      ],
      "text/plain": [
       "[1] \"character\""
      ]
     },
     "metadata": {},
     "output_type": "display_data"
    }
   ],
   "source": [
    "class(char)"
   ]
  },
  {
   "cell_type": "code",
   "execution_count": 15,
   "id": "56a0670a",
   "metadata": {},
   "outputs": [
    {
     "data": {
      "text/html": [
       "'character'"
      ],
      "text/latex": [
       "'character'"
      ],
      "text/markdown": [
       "'character'"
      ],
      "text/plain": [
       "[1] \"character\""
      ]
     },
     "metadata": {},
     "output_type": "display_data"
    }
   ],
   "source": [
    "class(c)"
   ]
  },
  {
   "cell_type": "code",
   "execution_count": 16,
   "id": "5a5a09ae",
   "metadata": {},
   "outputs": [
    {
     "data": {
      "text/html": [
       "'numeric'"
      ],
      "text/latex": [
       "'numeric'"
      ],
      "text/markdown": [
       "'numeric'"
      ],
      "text/plain": [
       "[1] \"numeric\""
      ]
     },
     "metadata": {},
     "output_type": "display_data"
    }
   ],
   "source": [
    "class(n)"
   ]
  },
  {
   "cell_type": "code",
   "execution_count": 17,
   "id": "a41a6df5",
   "metadata": {},
   "outputs": [
    {
     "data": {
      "text/html": [
       "'numeric'"
      ],
      "text/latex": [
       "'numeric'"
      ],
      "text/markdown": [
       "'numeric'"
      ],
      "text/plain": [
       "[1] \"numeric\""
      ]
     },
     "metadata": {},
     "output_type": "display_data"
    }
   ],
   "source": [
    "class(i)"
   ]
  },
  {
   "cell_type": "markdown",
   "id": "a116f20a",
   "metadata": {},
   "source": [
    "Those are some of the basic data types in R. Next we will learn about one of the main data building blocks of R, the vector!"
   ]
  },
  {
   "cell_type": "code",
   "execution_count": null,
   "id": "a8446352",
   "metadata": {},
   "outputs": [],
   "source": []
  }
 ],
 "metadata": {
  "kernelspec": {
   "display_name": "R",
   "language": "R",
   "name": "ir"
  },
  "language_info": {
   "codemirror_mode": "r",
   "file_extension": ".r",
   "mimetype": "text/x-r-source",
   "name": "R",
   "pygments_lexer": "r",
   "version": "4.1.1"
  }
 },
 "nbformat": 4,
 "nbformat_minor": 5
}
