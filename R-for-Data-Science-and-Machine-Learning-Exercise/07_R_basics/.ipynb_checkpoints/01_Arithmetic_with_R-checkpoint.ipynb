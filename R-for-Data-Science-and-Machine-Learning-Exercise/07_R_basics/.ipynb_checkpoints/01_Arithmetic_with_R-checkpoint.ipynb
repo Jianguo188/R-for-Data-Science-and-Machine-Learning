{
 "cells": [
  {
   "cell_type": "markdown",
   "id": "7a2a2bd2",
   "metadata": {},
   "source": [
    "## Arithmetic with R"
   ]
  },
  {
   "cell_type": "markdown",
   "id": "1d808623",
   "metadata": {},
   "source": [
    "#### Addition"
   ]
  },
  {
   "cell_type": "code",
   "execution_count": 1,
   "id": "7c28319c",
   "metadata": {},
   "outputs": [
    {
     "data": {
      "text/html": [
       "3"
      ],
      "text/latex": [
       "3"
      ],
      "text/markdown": [
       "3"
      ],
      "text/plain": [
       "[1] 3"
      ]
     },
     "metadata": {},
     "output_type": "display_data"
    }
   ],
   "source": [
    "1+2"
   ]
  },
  {
   "cell_type": "markdown",
   "id": "b3e934ee",
   "metadata": {},
   "source": [
    "#### Subtraction"
   ]
  },
  {
   "cell_type": "code",
   "execution_count": 2,
   "id": "0b9a7047",
   "metadata": {},
   "outputs": [
    {
     "data": {
      "text/html": [
       "2"
      ],
      "text/latex": [
       "2"
      ],
      "text/markdown": [
       "2"
      ],
      "text/plain": [
       "[1] 2"
      ]
     },
     "metadata": {},
     "output_type": "display_data"
    }
   ],
   "source": [
    "5-3"
   ]
  },
  {
   "cell_type": "markdown",
   "id": "be777c08",
   "metadata": {},
   "source": [
    "#### Division"
   ]
  },
  {
   "cell_type": "code",
   "execution_count": 3,
   "id": "2a2c4505",
   "metadata": {},
   "outputs": [
    {
     "data": {
      "text/html": [
       "0.5"
      ],
      "text/latex": [
       "0.5"
      ],
      "text/markdown": [
       "0.5"
      ],
      "text/plain": [
       "[1] 0.5"
      ]
     },
     "metadata": {},
     "output_type": "display_data"
    }
   ],
   "source": [
    "1/2"
   ]
  },
  {
   "cell_type": "markdown",
   "id": "5ae92fa8",
   "metadata": {},
   "source": [
    "#### Exponents"
   ]
  },
  {
   "cell_type": "code",
   "execution_count": 4,
   "id": "0a93f42f",
   "metadata": {},
   "outputs": [
    {
     "data": {
      "text/html": [
       "8"
      ],
      "text/latex": [
       "8"
      ],
      "text/markdown": [
       "8"
      ],
      "text/plain": [
       "[1] 8"
      ]
     },
     "metadata": {},
     "output_type": "display_data"
    }
   ],
   "source": [
    "2^3"
   ]
  },
  {
   "cell_type": "markdown",
   "id": "52c15fda",
   "metadata": {},
   "source": [
    "#### Modulo"
   ]
  },
  {
   "cell_type": "code",
   "execution_count": 6,
   "id": "b4b3dffe",
   "metadata": {},
   "outputs": [
    {
     "data": {
      "text/html": [
       "1"
      ],
      "text/latex": [
       "1"
      ],
      "text/markdown": [
       "1"
      ],
      "text/plain": [
       "[1] 1"
      ]
     },
     "metadata": {},
     "output_type": "display_data"
    }
   ],
   "source": [
    "5 %% 2"
   ]
  },
  {
   "cell_type": "markdown",
   "id": "91d7c753",
   "metadata": {},
   "source": [
    "#### Order of Operations"
   ]
  },
  {
   "cell_type": "code",
   "execution_count": 8,
   "id": "4bc4613a",
   "metadata": {},
   "outputs": [
    {
     "data": {
      "text/html": [
       "225"
      ],
      "text/latex": [
       "225"
      ],
      "text/markdown": [
       "225"
      ],
      "text/plain": [
       "[1] 225"
      ]
     },
     "metadata": {},
     "output_type": "display_data"
    }
   ],
   "source": [
    "(100 * 2) + (50 / 2)"
   ]
  },
  {
   "cell_type": "code",
   "execution_count": null,
   "id": "e39d8083",
   "metadata": {},
   "outputs": [],
   "source": []
  }
 ],
 "metadata": {
  "kernelspec": {
   "display_name": "R",
   "language": "R",
   "name": "ir"
  },
  "language_info": {
   "codemirror_mode": "r",
   "file_extension": ".r",
   "mimetype": "text/x-r-source",
   "name": "R",
   "pygments_lexer": "r",
   "version": "4.1.1"
  }
 },
 "nbformat": 4,
 "nbformat_minor": 5
}
