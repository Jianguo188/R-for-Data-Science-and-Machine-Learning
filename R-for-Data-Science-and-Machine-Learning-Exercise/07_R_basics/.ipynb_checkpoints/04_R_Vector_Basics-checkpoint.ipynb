{
 "cells": [
  {
   "cell_type": "markdown",
   "id": "e86d7f93",
   "metadata": {},
   "source": [
    "## Vector Basics\n",
    "Vectors are one of the key data structures in R which we wil be using. A vector is a 1 dimensional array that can hold character, numeric, or logical data elements.\n",
    "\n",
    "We can create a vector by using the combine function c(). To use the function, we pass in the elements we want in the array, with each individual element separated by a comma.\n",
    "\n",
    "Let's see some examples:"
   ]
  },
  {
   "cell_type": "code",
   "execution_count": 1,
   "id": "f3c96d9a",
   "metadata": {},
   "outputs": [],
   "source": [
    "# Using c() to create a vector of numeric elements\n",
    "nvec <- c(1,2,3,4,5)"
   ]
  },
  {
   "cell_type": "code",
   "execution_count": 8,
   "id": "8bb122a4",
   "metadata": {},
   "outputs": [
    {
     "data": {
      "text/html": [
       "<style>\n",
       ".list-inline {list-style: none; margin:0; padding: 0}\n",
       ".list-inline>li {display: inline-block}\n",
       ".list-inline>li:not(:last-child)::after {content: \"\\00b7\"; padding: 0 .5ex}\n",
       "</style>\n",
       "<ol class=list-inline><li>1</li><li>2</li><li>3</li><li>4</li><li>5</li></ol>\n"
      ],
      "text/latex": [
       "\\begin{enumerate*}\n",
       "\\item 1\n",
       "\\item 2\n",
       "\\item 3\n",
       "\\item 4\n",
       "\\item 5\n",
       "\\end{enumerate*}\n"
      ],
      "text/markdown": [
       "1. 1\n",
       "2. 2\n",
       "3. 3\n",
       "4. 4\n",
       "5. 5\n",
       "\n",
       "\n"
      ],
      "text/plain": [
       "[1] 1 2 3 4 5"
      ]
     },
     "metadata": {},
     "output_type": "display_data"
    }
   ],
   "source": [
    "nvec"
   ]
  },
  {
   "cell_type": "code",
   "execution_count": 2,
   "id": "c885e0ec",
   "metadata": {},
   "outputs": [
    {
     "data": {
      "text/html": [
       "'numeric'"
      ],
      "text/latex": [
       "'numeric'"
      ],
      "text/markdown": [
       "'numeric'"
      ],
      "text/plain": [
       "[1] \"numeric\""
      ]
     },
     "metadata": {},
     "output_type": "display_data"
    }
   ],
   "source": [
    "class(nvec)"
   ]
  },
  {
   "cell_type": "code",
   "execution_count": 3,
   "id": "5b895068",
   "metadata": {},
   "outputs": [],
   "source": [
    "# Vector of characters\n",
    "cvec <- c('U','S','A')"
   ]
  },
  {
   "cell_type": "code",
   "execution_count": 9,
   "id": "9f1e4ed8",
   "metadata": {},
   "outputs": [
    {
     "data": {
      "text/html": [
       "<style>\n",
       ".list-inline {list-style: none; margin:0; padding: 0}\n",
       ".list-inline>li {display: inline-block}\n",
       ".list-inline>li:not(:last-child)::after {content: \"\\00b7\"; padding: 0 .5ex}\n",
       "</style>\n",
       "<ol class=list-inline><li>'U'</li><li>'S'</li><li>'A'</li></ol>\n"
      ],
      "text/latex": [
       "\\begin{enumerate*}\n",
       "\\item 'U'\n",
       "\\item 'S'\n",
       "\\item 'A'\n",
       "\\end{enumerate*}\n"
      ],
      "text/markdown": [
       "1. 'U'\n",
       "2. 'S'\n",
       "3. 'A'\n",
       "\n",
       "\n"
      ],
      "text/plain": [
       "[1] \"U\" \"S\" \"A\""
      ]
     },
     "metadata": {},
     "output_type": "display_data"
    }
   ],
   "source": [
    "cvec"
   ]
  },
  {
   "cell_type": "code",
   "execution_count": 4,
   "id": "19ea7f93",
   "metadata": {},
   "outputs": [
    {
     "data": {
      "text/html": [
       "'character'"
      ],
      "text/latex": [
       "'character'"
      ],
      "text/markdown": [
       "'character'"
      ],
      "text/plain": [
       "[1] \"character\""
      ]
     },
     "metadata": {},
     "output_type": "display_data"
    }
   ],
   "source": [
    "class(cvec)"
   ]
  },
  {
   "cell_type": "code",
   "execution_count": 5,
   "id": "59c45162",
   "metadata": {},
   "outputs": [],
   "source": [
    "lvec <- c(TRUE,FALSE)"
   ]
  },
  {
   "cell_type": "code",
   "execution_count": 7,
   "id": "d835dc43",
   "metadata": {},
   "outputs": [
    {
     "data": {
      "text/html": [
       "<style>\n",
       ".list-inline {list-style: none; margin:0; padding: 0}\n",
       ".list-inline>li {display: inline-block}\n",
       ".list-inline>li:not(:last-child)::after {content: \"\\00b7\"; padding: 0 .5ex}\n",
       "</style>\n",
       "<ol class=list-inline><li>TRUE</li><li>FALSE</li></ol>\n"
      ],
      "text/latex": [
       "\\begin{enumerate*}\n",
       "\\item TRUE\n",
       "\\item FALSE\n",
       "\\end{enumerate*}\n"
      ],
      "text/markdown": [
       "1. TRUE\n",
       "2. FALSE\n",
       "\n",
       "\n"
      ],
      "text/plain": [
       "[1]  TRUE FALSE"
      ]
     },
     "metadata": {},
     "output_type": "display_data"
    }
   ],
   "source": [
    "lvec"
   ]
  },
  {
   "cell_type": "code",
   "execution_count": 6,
   "id": "b5f55867",
   "metadata": {},
   "outputs": [
    {
     "data": {
      "text/html": [
       "'logical'"
      ],
      "text/latex": [
       "'logical'"
      ],
      "text/markdown": [
       "'logical'"
      ],
      "text/plain": [
       "[1] \"logical\""
      ]
     },
     "metadata": {},
     "output_type": "display_data"
    }
   ],
   "source": [
    "class(lvec)"
   ]
  },
  {
   "cell_type": "markdown",
   "id": "860e7be4",
   "metadata": {},
   "source": [
    "Note that we can't mix data types of the elements in an array, R will convert the other elements in the array to force everything to be of the same data type. Later on we will learn about the list data structure that can take on multiple data types!\n",
    "\n",
    "Here's a quick example of what happens with arrays given different data types:"
   ]
  },
  {
   "cell_type": "code",
   "execution_count": 11,
   "id": "ffd4002f",
   "metadata": {},
   "outputs": [],
   "source": [
    "v <- c(FALSE,2)"
   ]
  },
  {
   "cell_type": "code",
   "execution_count": 12,
   "id": "b35cf603",
   "metadata": {},
   "outputs": [
    {
     "data": {
      "text/html": [
       "<style>\n",
       ".list-inline {list-style: none; margin:0; padding: 0}\n",
       ".list-inline>li {display: inline-block}\n",
       ".list-inline>li:not(:last-child)::after {content: \"\\00b7\"; padding: 0 .5ex}\n",
       "</style>\n",
       "<ol class=list-inline><li>0</li><li>2</li></ol>\n"
      ],
      "text/latex": [
       "\\begin{enumerate*}\n",
       "\\item 0\n",
       "\\item 2\n",
       "\\end{enumerate*}\n"
      ],
      "text/markdown": [
       "1. 0\n",
       "2. 2\n",
       "\n",
       "\n"
      ],
      "text/plain": [
       "[1] 0 2"
      ]
     },
     "metadata": {},
     "output_type": "display_data"
    }
   ],
   "source": [
    "v"
   ]
  },
  {
   "cell_type": "code",
   "execution_count": 13,
   "id": "f48209b6",
   "metadata": {},
   "outputs": [
    {
     "data": {
      "text/html": [
       "'numeric'"
      ],
      "text/latex": [
       "'numeric'"
      ],
      "text/markdown": [
       "'numeric'"
      ],
      "text/plain": [
       "[1] \"numeric\""
      ]
     },
     "metadata": {},
     "output_type": "display_data"
    }
   ],
   "source": [
    "class(v)"
   ]
  },
  {
   "cell_type": "code",
   "execution_count": 14,
   "id": "2bd83bff",
   "metadata": {},
   "outputs": [],
   "source": [
    "v <- c('A',1)"
   ]
  },
  {
   "cell_type": "code",
   "execution_count": 15,
   "id": "35eb016a",
   "metadata": {},
   "outputs": [
    {
     "data": {
      "text/html": [
       "<style>\n",
       ".list-inline {list-style: none; margin:0; padding: 0}\n",
       ".list-inline>li {display: inline-block}\n",
       ".list-inline>li:not(:last-child)::after {content: \"\\00b7\"; padding: 0 .5ex}\n",
       "</style>\n",
       "<ol class=list-inline><li>'A'</li><li>'1'</li></ol>\n"
      ],
      "text/latex": [
       "\\begin{enumerate*}\n",
       "\\item 'A'\n",
       "\\item '1'\n",
       "\\end{enumerate*}\n"
      ],
      "text/markdown": [
       "1. 'A'\n",
       "2. '1'\n",
       "\n",
       "\n"
      ],
      "text/plain": [
       "[1] \"A\" \"1\""
      ]
     },
     "metadata": {},
     "output_type": "display_data"
    }
   ],
   "source": [
    "v"
   ]
  },
  {
   "cell_type": "code",
   "execution_count": 16,
   "id": "1ff70f53",
   "metadata": {},
   "outputs": [
    {
     "data": {
      "text/html": [
       "'character'"
      ],
      "text/latex": [
       "'character'"
      ],
      "text/markdown": [
       "'character'"
      ],
      "text/plain": [
       "[1] \"character\""
      ]
     },
     "metadata": {},
     "output_type": "display_data"
    }
   ],
   "source": [
    "class(v)"
   ]
  },
  {
   "cell_type": "markdown",
   "id": "d76bf057",
   "metadata": {},
   "source": [
    "## Vector Names\n",
    "We can use the names() function to assign names to each element in our vector. For example, imagine the folowing vector of a week of temperatures:"
   ]
  },
  {
   "cell_type": "code",
   "execution_count": 17,
   "id": "ef03a41f",
   "metadata": {},
   "outputs": [],
   "source": [
    "temps <- c(72,71,68,73,69,75,71)"
   ]
  },
  {
   "cell_type": "code",
   "execution_count": 18,
   "id": "b7b1662a",
   "metadata": {},
   "outputs": [
    {
     "data": {
      "text/html": [
       "<style>\n",
       ".list-inline {list-style: none; margin:0; padding: 0}\n",
       ".list-inline>li {display: inline-block}\n",
       ".list-inline>li:not(:last-child)::after {content: \"\\00b7\"; padding: 0 .5ex}\n",
       "</style>\n",
       "<ol class=list-inline><li>72</li><li>71</li><li>68</li><li>73</li><li>69</li><li>75</li><li>71</li></ol>\n"
      ],
      "text/latex": [
       "\\begin{enumerate*}\n",
       "\\item 72\n",
       "\\item 71\n",
       "\\item 68\n",
       "\\item 73\n",
       "\\item 69\n",
       "\\item 75\n",
       "\\item 71\n",
       "\\end{enumerate*}\n"
      ],
      "text/markdown": [
       "1. 72\n",
       "2. 71\n",
       "3. 68\n",
       "4. 73\n",
       "5. 69\n",
       "6. 75\n",
       "7. 71\n",
       "\n",
       "\n"
      ],
      "text/plain": [
       "[1] 72 71 68 73 69 75 71"
      ]
     },
     "metadata": {},
     "output_type": "display_data"
    }
   ],
   "source": [
    "temps"
   ]
  },
  {
   "cell_type": "markdown",
   "id": "d646e91c",
   "metadata": {},
   "source": [
    "We know we have 7 temperatures for 7 weekdays, but which temperature corresponds to which weekday? Does it start on Monday, Sunday, or another day of the week? This is where names() can be assigned in the following manner:"
   ]
  },
  {
   "cell_type": "code",
   "execution_count": 19,
   "id": "0bd6b8f1",
   "metadata": {},
   "outputs": [],
   "source": [
    "names(temps) <- c('Mon','Tue','Wed','Thu','Fri','Sat','Sun')"
   ]
  },
  {
   "cell_type": "markdown",
   "id": "bd74f8a1",
   "metadata": {},
   "source": [
    "Now note what happens when we display the named vector:"
   ]
  },
  {
   "cell_type": "code",
   "execution_count": 20,
   "id": "b2441fc5",
   "metadata": {},
   "outputs": [
    {
     "data": {
      "text/html": [
       "<style>\n",
       ".dl-inline {width: auto; margin:0; padding: 0}\n",
       ".dl-inline>dt, .dl-inline>dd {float: none; width: auto; display: inline-block}\n",
       ".dl-inline>dt::after {content: \":\\0020\"; padding-right: .5ex}\n",
       ".dl-inline>dt:not(:first-of-type) {padding-left: .5ex}\n",
       "</style><dl class=dl-inline><dt>Mon</dt><dd>72</dd><dt>Tue</dt><dd>71</dd><dt>Wed</dt><dd>68</dd><dt>Thu</dt><dd>73</dd><dt>Fri</dt><dd>69</dd><dt>Sat</dt><dd>75</dd><dt>Sun</dt><dd>71</dd></dl>\n"
      ],
      "text/latex": [
       "\\begin{description*}\n",
       "\\item[Mon] 72\n",
       "\\item[Tue] 71\n",
       "\\item[Wed] 68\n",
       "\\item[Thu] 73\n",
       "\\item[Fri] 69\n",
       "\\item[Sat] 75\n",
       "\\item[Sun] 71\n",
       "\\end{description*}\n"
      ],
      "text/markdown": [
       "Mon\n",
       ":   72Tue\n",
       ":   71Wed\n",
       ":   68Thu\n",
       ":   73Fri\n",
       ":   69Sat\n",
       ":   75Sun\n",
       ":   71\n",
       "\n"
      ],
      "text/plain": [
       "Mon Tue Wed Thu Fri Sat Sun \n",
       " 72  71  68  73  69  75  71 "
      ]
     },
     "metadata": {},
     "output_type": "display_data"
    }
   ],
   "source": [
    "temps"
   ]
  },
  {
   "cell_type": "markdown",
   "id": "1adb480f",
   "metadata": {},
   "source": [
    "We can now begin to see how the elements were assigned names! Depending on what IDE you are using, you may see the above displayed horizontally instead of vertically, that's totally fine!\n",
    "\n",
    "We also don't have to rewrite the names vector over and over again, we can use simple use a variable name as a names() assignment, for example:"
   ]
  },
  {
   "cell_type": "code",
   "execution_count": 21,
   "id": "c6627457",
   "metadata": {},
   "outputs": [],
   "source": [
    "days <- c('Mon','Tue','Wed','Thu','Fri','Sat','Sun')\n",
    "temps2 <- c(1,2,3,4,5,6,7)\n",
    "names(temps2) <- days"
   ]
  },
  {
   "cell_type": "code",
   "execution_count": 22,
   "id": "00657764",
   "metadata": {},
   "outputs": [
    {
     "data": {
      "text/html": [
       "<style>\n",
       ".dl-inline {width: auto; margin:0; padding: 0}\n",
       ".dl-inline>dt, .dl-inline>dd {float: none; width: auto; display: inline-block}\n",
       ".dl-inline>dt::after {content: \":\\0020\"; padding-right: .5ex}\n",
       ".dl-inline>dt:not(:first-of-type) {padding-left: .5ex}\n",
       "</style><dl class=dl-inline><dt>Mon</dt><dd>1</dd><dt>Tue</dt><dd>2</dd><dt>Wed</dt><dd>3</dd><dt>Thu</dt><dd>4</dd><dt>Fri</dt><dd>5</dd><dt>Sat</dt><dd>6</dd><dt>Sun</dt><dd>7</dd></dl>\n"
      ],
      "text/latex": [
       "\\begin{description*}\n",
       "\\item[Mon] 1\n",
       "\\item[Tue] 2\n",
       "\\item[Wed] 3\n",
       "\\item[Thu] 4\n",
       "\\item[Fri] 5\n",
       "\\item[Sat] 6\n",
       "\\item[Sun] 7\n",
       "\\end{description*}\n"
      ],
      "text/markdown": [
       "Mon\n",
       ":   1Tue\n",
       ":   2Wed\n",
       ":   3Thu\n",
       ":   4Fri\n",
       ":   5Sat\n",
       ":   6Sun\n",
       ":   7\n",
       "\n"
      ],
      "text/plain": [
       "Mon Tue Wed Thu Fri Sat Sun \n",
       "  1   2   3   4   5   6   7 "
      ]
     },
     "metadata": {},
     "output_type": "display_data"
    }
   ],
   "source": [
    "temps2"
   ]
  },
  {
   "cell_type": "markdown",
   "id": "6eb1328e",
   "metadata": {},
   "source": [
    "That's is for vector basics! Up next we will go over working with vectors."
   ]
  },
  {
   "cell_type": "code",
   "execution_count": null,
   "id": "8725edd5",
   "metadata": {},
   "outputs": [],
   "source": []
  }
 ],
 "metadata": {
  "kernelspec": {
   "display_name": "R",
   "language": "R",
   "name": "ir"
  },
  "language_info": {
   "codemirror_mode": "r",
   "file_extension": ".r",
   "mimetype": "text/x-r-source",
   "name": "R",
   "pygments_lexer": "r",
   "version": "4.1.1"
  }
 },
 "nbformat": 4,
 "nbformat_minor": 5
}
