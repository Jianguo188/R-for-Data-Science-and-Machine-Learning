{
 "cells": [
  {
   "cell_type": "markdown",
   "id": "0ce8fa5e",
   "metadata": {},
   "source": [
    "## Variables\n",
    "\n",
    "Let's go over how to assign variables in R.\n",
    "\n",
    "You can use the <- character to assign a variable, note how it kind of looks like an arrow pointing from the object to the variable name.\n"
   ]
  },
  {
   "cell_type": "code",
   "execution_count": 2,
   "id": "85b0f001",
   "metadata": {},
   "outputs": [],
   "source": [
    "# Use hashtags for comments\n",
    "variable.name <- 100"
   ]
  },
  {
   "cell_type": "code",
   "execution_count": 3,
   "id": "0ee87c21",
   "metadata": {},
   "outputs": [
    {
     "data": {
      "text/html": [
       "100"
      ],
      "text/latex": [
       "100"
      ],
      "text/markdown": [
       "100"
      ],
      "text/plain": [
       "[1] 100"
      ]
     },
     "metadata": {},
     "output_type": "display_data"
    }
   ],
   "source": [
    "# Let's see the variable!\n",
    "variable.name"
   ]
  },
  {
   "cell_type": "markdown",
   "id": "39420769",
   "metadata": {},
   "source": [
    "## Working with variables\n",
    "We can use variables together and work with them, for example:"
   ]
  },
  {
   "cell_type": "code",
   "execution_count": 4,
   "id": "f663c3fb",
   "metadata": {},
   "outputs": [],
   "source": [
    "bank.account <- 100"
   ]
  },
  {
   "cell_type": "code",
   "execution_count": 5,
   "id": "7f832362",
   "metadata": {},
   "outputs": [],
   "source": [
    "deposit <- 10"
   ]
  },
  {
   "cell_type": "code",
   "execution_count": 6,
   "id": "49130a91",
   "metadata": {},
   "outputs": [],
   "source": [
    "bank.account <- bank.account + deposit"
   ]
  },
  {
   "cell_type": "code",
   "execution_count": 7,
   "id": "b54cd42b",
   "metadata": {},
   "outputs": [
    {
     "data": {
      "text/html": [
       "110"
      ],
      "text/latex": [
       "110"
      ],
      "text/markdown": [
       "110"
      ],
      "text/plain": [
       "[1] 110"
      ]
     },
     "metadata": {},
     "output_type": "display_data"
    }
   ],
   "source": [
    "bank.account"
   ]
  },
  {
   "cell_type": "code",
   "execution_count": null,
   "id": "5f54e0a8",
   "metadata": {},
   "outputs": [],
   "source": []
  }
 ],
 "metadata": {
  "kernelspec": {
   "display_name": "R",
   "language": "R",
   "name": "ir"
  },
  "language_info": {
   "codemirror_mode": "r",
   "file_extension": ".r",
   "mimetype": "text/x-r-source",
   "name": "R",
   "pygments_lexer": "r",
   "version": "4.1.1"
  }
 },
 "nbformat": 4,
 "nbformat_minor": 5
}
