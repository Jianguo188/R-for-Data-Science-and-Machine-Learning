{
 "cells": [
  {
   "cell_type": "markdown",
   "id": "7e8f1ee4",
   "metadata": {},
   "source": [
    "## Getting Help with R"
   ]
  },
  {
   "cell_type": "markdown",
   "id": "fa998243",
   "metadata": {},
   "source": [
    "Aside from a google search or visiting [StackOverflow](www.stackoverflow.com), there are some built-in ways to get help with R!"
   ]
  },
  {
   "cell_type": "markdown",
   "id": "c04e7d35",
   "metadata": {},
   "source": [
    "Most R functions have online documentation.\n",
    "\n",
    "* help(topic) documentation on topic ?topic id.\n",
    "* help.search(\"topic\") search the help system\n",
    "* apropos(\"topic\") the names of all objects in the search list matching the regular expression ”topic”\n",
    "* help.start() start the HTML version of help\n",
    "* str(a) display the internal structure of an R object\n",
    "* summary(a) gives a “summary” of a, usually a statistical summary but it is generic meaning it has different operations for different classes of a\n",
    "* ls() show objects in the search path; specify pat=\"pat\" to search on a pattern\n",
    "* ls.str() str() for each variable in the search path\n",
    "* dir() show files in the current directory\n",
    "* methods(a) shows S3 methods of a\n",
    "* methods(class=class(a)) lists all the methods to handle objects of class a\n",
    "\n",
    "Let's see some basic examples of thow to use these, we won't go through all of them because some of them aren't useful to us...yet!"
   ]
  },
  {
   "cell_type": "code",
   "execution_count": 2,
   "id": "6d34a01f",
   "metadata": {},
   "outputs": [
    {
     "name": "stderr",
     "output_type": "stream",
     "text": [
      "Warning message in seq_len(head.end.idx):\n",
      "“first element used of 'length.out' argument”\n",
      "ERROR while rich displaying an object: Error in seq_len(head.end.idx): argument must be coercible to non-negative integer\n",
      "\n",
      "Traceback:\n",
      "1. FUN(X[[i]], ...)\n",
      "2. tryCatch(withCallingHandlers({\n",
      " .     if (!mime %in% names(repr::mime2repr)) \n",
      " .         stop(\"No repr_* for mimetype \", mime, \" in repr::mime2repr\")\n",
      " .     rpr <- repr::mime2repr[[mime]](obj)\n",
      " .     if (is.null(rpr)) \n",
      " .         return(NULL)\n",
      " .     prepare_content(is.raw(rpr), rpr)\n",
      " . }, error = error_handler), error = outer_handler)\n",
      "3. tryCatchList(expr, classes, parentenv, handlers)\n",
      "4. tryCatchOne(expr, names, parentenv, handlers[[1L]])\n",
      "5. doTryCatch(return(expr), name, parentenv, handler)\n",
      "6. withCallingHandlers({\n",
      " .     if (!mime %in% names(repr::mime2repr)) \n",
      " .         stop(\"No repr_* for mimetype \", mime, \" in repr::mime2repr\")\n",
      " .     rpr <- repr::mime2repr[[mime]](obj)\n",
      " .     if (is.null(rpr)) \n",
      " .         return(NULL)\n",
      " .     prepare_content(is.raw(rpr), rpr)\n",
      " . }, error = error_handler)\n",
      "7. repr::mime2repr[[mime]](obj)\n",
      "8. repr_html.help_files_with_topic(obj)\n",
      "9. repr_help_files_with_topic_generic(obj, Rd2HTML)\n"
     ]
    }
   ],
   "source": [
    "# Need help with vectors, try help()\n",
    "help(vector)"
   ]
  },
  {
   "cell_type": "markdown",
   "id": "2daa432e",
   "metadata": {},
   "source": [
    "## Vectors"
   ]
  },
  {
   "cell_type": "markdown",
   "id": "e8ef0c97",
   "metadata": {},
   "source": [
    "### Description\n",
    "vector produces a vector of the given length and mode.\n",
    "\n",
    "as.vector, a generic, attempts to coerce its argument into a vector of mode mode (the default is to coerce to whichever vector mode is most convenient): if the result is atomic all attributes are removed.\n",
    "\n",
    "is.vector returns TRUE if x is a vector of the specified mode having no attributes other than names. It returns FALSE otherwise."
   ]
  },
  {
   "cell_type": "markdown",
   "id": "bde8dd8f",
   "metadata": {},
   "source": [
    "### Usage\n",
    "vector(mode = \"logical\", length = 0)\n",
    "\n",
    "as.vector(x, mode = \"any\")\n",
    "\n",
    "is.vector(x, mode = \"any\")\n"
   ]
  },
  {
   "cell_type": "markdown",
   "id": "f03081ca",
   "metadata": {},
   "source": [
    "### Arguments\n",
    "\n",
    "| Name | Des |\n",
    "| --- | ----------- |\n",
    "|mode|character string naming an atomic mode or \"list\" or \"expression\" or (except for vector) \"any\".|\n",
    "|length\t| a non-negative integer specifying the desired length. For a long vector, i.e., length > .Machine$integer.max, it has to be of type \"double\". Supplying an argument of length other than one is an error.|\n",
    "|x\t| an R object.|\n",
    "\n"
   ]
  },
  {
   "cell_type": "markdown",
   "id": "ccf2ba16",
   "metadata": {},
   "source": [
    "### Details\n",
    "The atomic modes are \"logical\", \"integer\", \"numeric\" (synonym \"double\"), \"complex\", \"character\" and \"raw\".\n",
    "\n",
    "If mode = \"any\", is.vector may return TRUE for the atomic modes, list and expression. For any mode, it will return FALSE if x has any attributes except names. (This is incompatible with S.) On the other hand, as.vector removes all attributes including names for results of atomic mode (but not those of mode \"list\" nor \"expression\").\n",
    "\n",
    "Note that factors are not vectors; is.vector returns FALSE and as.vector converts a factor to a character vector for mode = \"any\"."
   ]
  },
  {
   "cell_type": "markdown",
   "id": "7d83f501",
   "metadata": {},
   "source": [
    "### Value\n",
    "For vector, a vector of the given length and mode. Logical vector elements are initialized to FALSE, numeric vector elements to 0, character vector elements to \"\", raw vector elements to nul bytes and list/expression elements to NULL.\n",
    "\n",
    "For as.vector, a vector (atomic or of type list or expression). All attributes are removed from the result if it is of an atomic mode, but not in general for a list result. The default method handles 24 input types and 12 values of type: the details of most coercions are undocumented and subject to change.\n",
    "\n",
    "For is.vector, TRUE or FALSE. is.vector(x, mode = \"numeric\") can be true for vectors of types \"integer\" or \"double\" whereas is.vector(x, mode =\n",
    "  \"double\") can only be true for those of type \"double\"."
   ]
  },
  {
   "cell_type": "markdown",
   "id": "ebc03e88",
   "metadata": {},
   "source": [
    "### Methods for as.vector()\n",
    "Writers of methods for as.vector need to take care to follow the conventions of the default method. In particular\n",
    "\n",
    "* Argument mode can be \"any\", any of the atomic modes, \"list\", \"expression\", \"symbol\", \"pairlist\" or one of the aliases \"double\" and \"name\".\n",
    "\n",
    "* The return value should be of the appropriate mode. For mode = \"any\" this means an atomic vector or list.\n",
    "\n",
    "* Attributes should be treated appropriately: in particular when the result is an atomic vector there should be no attributes, not even names.\n",
    "\n",
    "* is.vector(as.vector(x, m), m) should be true for any mode m, including the default \"any\"."
   ]
  },
  {
   "cell_type": "markdown",
   "id": "abc5d895",
   "metadata": {},
   "source": [
    "### Note\n",
    "as.vector and is.vector are quite distinct from the meaning of the formal class \"vector\" in the methods package, and hence as(x, \"vector\") and is(x, \"vector\").\n",
    "\n",
    "Note that as.vector(x) is not necessarily a null operation if is.vector(x) is true: any names will be removed from an atomic vector.\n",
    "\n",
    "Non-vector modes \"symbol\" (synonym \"name\") and \"pairlist\" are accepted but have long been undocumented: they are used to implement as.name and as.pairlist, and those functions should preferably be used directly. None of the description here applies to those modes: see the help for the preferred forms."
   ]
  },
  {
   "cell_type": "markdown",
   "id": "c20ae946",
   "metadata": {},
   "source": [
    "### References\n",
    "Becker, R. A., Chambers, J. M. and Wilks, A. R. (1988) The New S Language. Wadsworth & Brooks/Cole."
   ]
  },
  {
   "cell_type": "markdown",
   "id": "d5213a4e",
   "metadata": {},
   "source": [
    "### See Also\n",
    "c, is.numeric, is.list, etc."
   ]
  },
  {
   "cell_type": "markdown",
   "id": "e7285f1d",
   "metadata": {},
   "source": [
    "### Examples\n",
    "```\n",
    "df <- data.frame(x = 1:3, y = 5:7)\n",
    "## Error:\n",
    "try(as.vector(data.frame(x = 1:3, y = 5:7), mode = \"numeric\"))\n",
    "\n",
    "x <- c(a = 1, b = 2)\n",
    "is.vector(x)\n",
    "as.vector(x)\n",
    "all.equal(x, as.vector(x)) ## FALSE\n",
    "\n",
    "\n",
    "###-- All the following are TRUE:\n",
    "is.list(df)\n",
    "! is.vector(df)\n",
    "! is.vector(df, mode = \"list\")\n",
    "\n",
    "is.vector(list(), mode = \"list\")\n",
    "```"
   ]
  },
  {
   "cell_type": "markdown",
   "id": "852b4db0",
   "metadata": {},
   "source": [
    "Very nice! We can also do a search:"
   ]
  },
  {
   "cell_type": "code",
   "execution_count": 3,
   "id": "bc719d2b",
   "metadata": {},
   "outputs": [],
   "source": [
    "# This will pop up a help window  (need to pass a character string)\n",
    "help.search('numeric')"
   ]
  },
  {
   "cell_type": "code",
   "execution_count": 4,
   "id": "04e2b582",
   "metadata": {},
   "outputs": [],
   "source": [
    "# Can also use ?? for a search\n",
    "??vector"
   ]
  },
  {
   "cell_type": "code",
   "execution_count": 5,
   "id": "072a3171",
   "metadata": {},
   "outputs": [
    {
     "data": {
      "text/plain": [
       "   Min. 1st Qu.  Median    Mean 3rd Qu.    Max. \n",
       "   1.00    2.25    3.50    3.50    4.75    6.00 "
      ]
     },
     "metadata": {},
     "output_type": "display_data"
    }
   ],
   "source": [
    "# Can also do a quick stats summary:\n",
    "v <- c(1,2,3,4,5,6)\n",
    "summary(v)"
   ]
  },
  {
   "cell_type": "markdown",
   "id": "4e808c78",
   "metadata": {},
   "source": [
    "We will use these help tools later on when we want more information, for now just keep help() and ?? in mind when your stuck on something (as well as google searching!).\n",
    "\n",
    "That's all for now!"
   ]
  },
  {
   "cell_type": "code",
   "execution_count": null,
   "id": "089ca908",
   "metadata": {},
   "outputs": [],
   "source": []
  }
 ],
 "metadata": {
  "kernelspec": {
   "display_name": "R",
   "language": "R",
   "name": "ir"
  },
  "language_info": {
   "codemirror_mode": "r",
   "file_extension": ".r",
   "mimetype": "text/x-r-source",
   "name": "R",
   "pygments_lexer": "r",
   "version": "4.1.1"
  }
 },
 "nbformat": 4,
 "nbformat_minor": 5
}
